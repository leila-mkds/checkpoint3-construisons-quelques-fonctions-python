{
 "cells": [
  {
   "cell_type": "code",
   "execution_count": 3,
   "id": "d91c974f",
   "metadata": {},
   "outputs": [
    {
     "name": "stdout",
     "output_type": "stream",
     "text": [
      "hello world this is my first function\n"
     ]
    }
   ],
   "source": [
    "def function_name():\n",
    "    print(\"hello world this is my first function\")\n",
    "function_name()"
   ]
  },
  {
   "cell_type": "code",
   "execution_count": 5,
   "id": "c4e65251",
   "metadata": {},
   "outputs": [
    {
     "name": "stdout",
     "output_type": "stream",
     "text": [
      "i want to learn to code!\n",
      "i want to learn to do All\n"
     ]
    }
   ],
   "source": [
    "def my_function(parameter):\n",
    "    print(\"i want to learn \"+parameter)\n",
    "my_function(\"to code!\")\n",
    "my_function(\"to do All\")"
   ]
  },
  {
   "cell_type": "code",
   "execution_count": 28,
   "id": "1745f622",
   "metadata": {},
   "outputs": [
    {
     "name": "stdout",
     "output_type": "stream",
     "text": [
      "4\n"
     ]
    }
   ],
   "source": [
    "def lenght(liste):\n",
    "    s=0\n",
    "    for i in liste:\n",
    "        s+=1#s=s+1\n",
    "    print(s)#on peut mettre print tout comme return on aura le meme resultat \n",
    "a=[1,2,3,4]#de base print(lenght(a))\n",
    "b=lenght(a)#4"
   ]
  },
  {
   "cell_type": "code",
   "execution_count": 29,
   "id": "8ea5d92c",
   "metadata": {},
   "outputs": [
    {
     "name": "stdout",
     "output_type": "stream",
     "text": [
      "None\n"
     ]
    }
   ],
   "source": [
    "#avec return ca affichera 4 directement contairement a print psk print c est juste pour afficher mais elle ne stoque pas\n",
    "#contrairement a return mais SELEMENT RETURN ELLE DOIT ETRE INTRODUITE DANS LA FONCTION\n",
    "print(b)\n"
   ]
  },
  {
   "cell_type": "code",
   "execution_count": 31,
   "id": "2739395f",
   "metadata": {},
   "outputs": [
    {
     "name": "stdout",
     "output_type": "stream",
     "text": [
      "16\n",
      "21\n"
     ]
    }
   ],
   "source": [
    "def operation(x,y,z):\n",
    "    print((x+y)*z)\n",
    "operation(5,3,2)\n",
    "operation(5,2,3)"
   ]
  },
  {
   "cell_type": "code",
   "execution_count": 44,
   "id": "0b416659",
   "metadata": {},
   "outputs": [
    {
     "name": "stdout",
     "output_type": "stream",
     "text": [
      "donner la valeur de x:5\n",
      "donner la valeur de y:3\n",
      "donner la valeur de z:2\n",
      "16\n"
     ]
    }
   ],
   "source": [
    "def operation():\n",
    "    x=int(input(\"donner la valeur de x:\"))\n",
    "    y=int(input(\"donner la valeur de y:\"))\n",
    "    z=int(input(\"donner la valeur de z:\"))\n",
    "    print((x+y)*z)\n",
    "operation()\n"
   ]
  },
  {
   "cell_type": "code",
   "execution_count": 45,
   "id": "6cb31268",
   "metadata": {},
   "outputs": [
    {
     "data": {
      "text/plain": [
       "6"
      ]
     },
     "execution_count": 45,
     "metadata": {},
     "output_type": "execute_result"
    }
   ],
   "source": [
    "operation=lambda a,b,c:a+b+c\n",
    "operation(1,2,3)"
   ]
  },
  {
   "cell_type": "code",
   "execution_count": 46,
   "id": "efe97d27",
   "metadata": {},
   "outputs": [
    {
     "name": "stdout",
     "output_type": "stream",
     "text": [
      "6\n"
     ]
    }
   ],
   "source": [
    "def operation(a,b,c):\n",
    "    print(a+b+c)\n",
    "operation(1,2,3)"
   ]
  },
  {
   "cell_type": "code",
   "execution_count": 48,
   "id": "5952c4f6",
   "metadata": {},
   "outputs": [
    {
     "name": "stdout",
     "output_type": "stream",
     "text": [
      "2020\n"
     ]
    }
   ],
   "source": [
    "year=lambda ch:ch[0:4]\n",
    "ch='2020034736'\n",
    "print(year(ch))"
   ]
  },
  {
   "cell_type": "code",
   "execution_count": 49,
   "id": "dea61680",
   "metadata": {},
   "outputs": [
    {
     "data": {
      "text/plain": [
       "[4, 4, 4]"
      ]
     },
     "execution_count": 49,
     "metadata": {},
     "output_type": "execute_result"
    }
   ],
   "source": [
    "def myfun(a,b):\n",
    "    return(a+b)\n",
    "result=list(map(myfun,(1,2,3),(3,2,1)))\n",
    "result"
   ]
  },
  {
   "cell_type": "code",
   "execution_count": 50,
   "id": "2651339d",
   "metadata": {},
   "outputs": [],
   "source": [
    "#autre code a faire a la maison on le trouve sur la plateforme\n"
   ]
  },
  {
   "cell_type": "code",
   "execution_count": 54,
   "id": "bab00c8f",
   "metadata": {},
   "outputs": [
    {
     "name": "stdout",
     "output_type": "stream",
     "text": [
      "donner la valeur de x:2\n",
      "donner la valeur de y:3\n",
      "donner la valeur de z:8\n",
      "8\n"
     ]
    }
   ],
   "source": [
    "#checkpoint03:\n",
    "#q1:\n",
    "def funmax():\n",
    "    x=int(input(\"donner la valeur de x:\"))\n",
    "    y=int(input(\"donner la valeur de y:\"))\n",
    "    z=int(input(\"donner la valeur de z:\"))\n",
    "\n",
    "     \n",
    "    if x>=y and x>=z:\n",
    "        print(x)\n",
    "    elif y>=x and y>=z:\n",
    "        print(y)\n",
    "    else:\n",
    "        print(z)\n",
    "funmax()\n",
    "\n",
    "            \n",
    "    \n",
    "    \n",
    "    "
   ]
  },
  {
   "cell_type": "code",
   "execution_count": 55,
   "id": "7aea9a4b",
   "metadata": {},
   "outputs": [
    {
     "name": "stdout",
     "output_type": "stream",
     "text": [
      "donner la valeur de x:5\n",
      "donner la valeur de y:2\n",
      "7 3\n"
     ]
    }
   ],
   "source": [
    "#q2:\n",
    "def funcalcul():\n",
    "    x=int(input(\"donner la valeur de x:\"))\n",
    "    y=int(input(\"donner la valeur de y:\"))\n",
    "    print(x+y,x-y)\n",
    "funcalcul()\n",
    "    "
   ]
  },
  {
   "cell_type": "code",
   "execution_count": 1,
   "id": "1068a4e2",
   "metadata": {},
   "outputs": [],
   "source": [
    "#q3:\n",
    "list=[1,2,3]\n",
    "list=[]\n",
    "list=[]\n"
   ]
  },
  {
   "cell_type": "code",
   "execution_count": null,
   "id": "1c52020b",
   "metadata": {},
   "outputs": [],
   "source": []
  }
 ],
 "metadata": {
  "kernelspec": {
   "display_name": "Python 3 (ipykernel)",
   "language": "python",
   "name": "python3"
  },
  "language_info": {
   "codemirror_mode": {
    "name": "ipython",
    "version": 3
   },
   "file_extension": ".py",
   "mimetype": "text/x-python",
   "name": "python",
   "nbconvert_exporter": "python",
   "pygments_lexer": "ipython3",
   "version": "3.9.12"
  }
 },
 "nbformat": 4,
 "nbformat_minor": 5
}
