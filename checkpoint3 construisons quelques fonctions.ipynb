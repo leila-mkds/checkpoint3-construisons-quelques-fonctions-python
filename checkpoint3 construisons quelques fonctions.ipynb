{
 "cells": [
  {
   "cell_type": "code",
   "execution_count": 1,
   "id": "ac6316f4",
   "metadata": {},
   "outputs": [
    {
     "name": "stdout",
     "output_type": "stream",
     "text": [
      "20\n",
      "35\n",
      "19\n",
      "35\n"
     ]
    }
   ],
   "source": [
    "#Question 1:\n",
    "def maximum():\n",
    "  x=int(input())\n",
    "  y=int(input())\n",
    "  z=int(input())\n",
    "  if x>=y and x>=z:\n",
    "    print(x)\n",
    "  elif y>=x and y>=z:\n",
    "    print(y)\n",
    "  elif z>=x and z>=y:\n",
    "    print(z)\n",
    "maximum()"
   ]
  },
  {
   "cell_type": "code",
   "execution_count": 2,
   "id": "b025ea6f",
   "metadata": {},
   "outputs": [
    {
     "name": "stdout",
     "output_type": "stream",
     "text": [
      "40\n",
      "10\n"
     ]
    },
    {
     "data": {
      "text/plain": [
       "(50, 30)"
      ]
     },
     "execution_count": 2,
     "metadata": {},
     "output_type": "execute_result"
    }
   ],
   "source": [
    "#Question 2:\n",
    "def calculation():\n",
    "  a=int(input())\n",
    "  b=int(input())\n",
    "  x=a+b\n",
    "  y=a-b\n",
    "  return(x,y)\n",
    "calculation()"
   ]
  },
  {
   "cell_type": "code",
   "execution_count": 3,
   "id": "3dd875dd",
   "metadata": {},
   "outputs": [
    {
     "data": {
      "text/plain": [
       "15"
      ]
     },
     "execution_count": 3,
     "metadata": {},
     "output_type": "execute_result"
    }
   ],
   "source": [
    "#Question 3:\n",
    "list=[1,2,3,4,5]\n",
    "#fonction qui additionne les éléments d'une liste d'entiers\n",
    "def somme(list):\n",
    "  add=0\n",
    "  for i in list:\n",
    "   add+=i\n",
    "  return(add)\n",
    "somme(list)"
   ]
  },
  {
   "cell_type": "code",
   "execution_count": 4,
   "id": "7cdd78b4",
   "metadata": {},
   "outputs": [
    {
     "data": {
      "text/plain": [
       "120"
      ]
     },
     "execution_count": 4,
     "metadata": {},
     "output_type": "execute_result"
    }
   ],
   "source": [
    "#fonction qui multiplie les éléments d'une liste d'entiers\n",
    "def mult(list):\n",
    "  mul=1\n",
    "  for i in list:\n",
    "    mul=mul*i\n",
    "  return(mul)\n",
    "mult(list)"
   ]
  },
  {
   "cell_type": "code",
   "execution_count": 5,
   "id": "111118ee",
   "metadata": {},
   "outputs": [
    {
     "name": "stdout",
     "output_type": "stream",
     "text": [
      "[1, 3, 5] [2, 4, 6]\n"
     ]
    },
    {
     "data": {
      "text/plain": [
       "9"
      ]
     },
     "execution_count": 5,
     "metadata": {},
     "output_type": "execute_result"
    }
   ],
   "source": [
    "#deux fonctions pour additionner les éléments dont la position est un nombre pair (0,2,4…) et multiplier le reste\n",
    "#pour l'addition:\n",
    "list1=[1,2,3,4,5,6]\n",
    "list2=[]\n",
    "list3=[]\n",
    "for i in range(len(list1)) :\n",
    "  if i%2==0:\n",
    "    list2.append(list1[i])\n",
    "  else:\n",
    "    list3.append(list1[i])\n",
    "print(list2,list3)\n",
    "somme(list2)"
   ]
  },
  {
   "cell_type": "code",
   "execution_count": 6,
   "id": "1724d24f",
   "metadata": {},
   "outputs": [
    {
     "data": {
      "text/plain": [
       "48"
      ]
     },
     "execution_count": 6,
     "metadata": {},
     "output_type": "execute_result"
    }
   ],
   "source": [
    "#pour la multiplication:\n",
    "mult(list3)"
   ]
  },
  {
   "cell_type": "code",
   "execution_count": 7,
   "id": "5ea4a826",
   "metadata": {},
   "outputs": [
    {
     "name": "stdout",
     "output_type": "stream",
     "text": [
      "Original dictionnary:\n",
      "{'mkds': 'leila', 'gmr': 'melissa', 'oud': 'lyna'}\n",
      "value dictionnary after capitalizing each word:\n",
      "['Leila', 'Melissa', 'Lyna']\n"
     ]
    }
   ],
   "source": [
    "#Question 4:\n",
    "eleves={'mkds':'leila','gmr':'melissa','oud':'lyna'}\n",
    "print('Original dictionnary:')\n",
    "print(eleves)\n",
    "eleves = [i.title() for i in eleves.values()]\n",
    "print('value dictionnary after capitalizing each word:')\n",
    "print(eleves)\n"
   ]
  },
  {
   "cell_type": "code",
   "execution_count": 8,
   "id": "c631532c",
   "metadata": {},
   "outputs": [
    {
     "name": "stdout",
     "output_type": "stream",
     "text": [
      "The word with the longest length is: third  and length is  5\n"
     ]
    }
   ],
   "source": [
    "#Question 5:\n",
    "def longestLength(a):\n",
    "    max1 = len(a[0])\n",
    "    temp = a[0]\n",
    "    for i in a:\n",
    "        if(len(i) > max1):\n",
    "            max1 = len(i)\n",
    "            temp = i\n",
    "    print(\"The word with the longest length is:\", temp,\n",
    "          \" and length is \", max1)\n",
    "a = [\"one\", \"two\", \"third\", \"four\"]\n",
    "longestLength(a)\n",
    "\n"
   ]
  },
  {
   "cell_type": "code",
   "execution_count": 10,
   "id": "ff33cfab",
   "metadata": {},
   "outputs": [
    {
     "name": "stdout",
     "output_type": "stream",
     "text": [
      "please enter hyphen separated sequence of words: \n",
      "green-red-yellow-black-white\n",
      "sorted strig is: \n",
      "black-green-red-white-yellow\n"
     ]
    }
   ],
   "source": [
    "#Question 6:\n",
    "def colors():\n",
    "    print(\"please enter hyphen separated sequence of words: \")\n",
    "    items=[n for n in input().split('-')]\n",
    "    items.sort()\n",
    "    print(\"sorted strig is: \")\n",
    "    print('-'.join(items))\n",
    "colors()"
   ]
  },
  {
   "cell_type": "code",
   "execution_count": 11,
   "id": "1420549a",
   "metadata": {},
   "outputs": [
    {
     "name": "stdout",
     "output_type": "stream",
     "text": [
      "18\n",
      "22\n",
      "24\n"
     ]
    }
   ],
   "source": [
    "#Question 7:\n",
    "def racine():\n",
    "  c=50\n",
    "  h=30\n",
    "  d=[100,150,180]\n",
    "  for i in d :\n",
    "    q=int( ( (2*c*i)/h )**(1/2) )\n",
    "    print(q)\n",
    "racine()"
   ]
  },
  {
   "cell_type": "code",
   "execution_count": null,
   "id": "410bee2c",
   "metadata": {},
   "outputs": [],
   "source": []
  }
 ],
 "metadata": {
  "kernelspec": {
   "display_name": "Python 3 (ipykernel)",
   "language": "python",
   "name": "python3"
  },
  "language_info": {
   "codemirror_mode": {
    "name": "ipython",
    "version": 3
   },
   "file_extension": ".py",
   "mimetype": "text/x-python",
   "name": "python",
   "nbconvert_exporter": "python",
   "pygments_lexer": "ipython3",
   "version": "3.9.12"
  }
 },
 "nbformat": 4,
 "nbformat_minor": 5
}
